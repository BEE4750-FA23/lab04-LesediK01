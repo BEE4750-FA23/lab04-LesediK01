{
  "cells": [
    {
      "cell_type": "markdown",
      "id": "37acac57-15ea-4127-89b3-fcd589600cfd",
      "metadata": {},
      "source": [
        "# BEE 4750 Lab 4: Simulation-Optimization\n",
        "\n",
        "**Name**: Lesedi Kgatla\n",
        "\n",
        "**ID**: lk535\n",
        "\n",
        "> **Due Date**\n",
        ">\n",
        "> Friday, 11/17/23, 9:00pm\n",
        "\n",
        "## Setup\n",
        "\n",
        "The following code should go at the top of most Julia scripts; it will\n",
        "load the local package environment and install any needed packages. You\n",
        "will see this often and shouldn’t need to touch it."
      ]
    },
    {
      "cell_type": "code",
      "execution_count": 1,
      "id": "5e950439",
      "metadata": {},
      "outputs": [
        {
          "name": "stderr",
          "output_type": "stream",
          "text": [
            "\u001b[32m\u001b[1m  Activating\u001b[22m\u001b[39m project at `c:\\Users\\lk535\\Desktop\\Classes\\BEE 4750\\Lab 04\\lab04-LesediK01`\n"
          ]
        },
        {
          "name": "stderr",
          "output_type": "stream",
          "text": [
            "\u001b[32m\u001b[1m   Installed\u001b[22m\u001b[39m PDMats ────────────── v0.11.28\n"
          ]
        },
        {
          "name": "stderr",
          "output_type": "stream",
          "text": [
            "\u001b[32m\u001b[1m   Installed\u001b[22m\u001b[39m ConcurrentUtilities ─ v2.3.0\n",
            "\u001b[32m\u001b[1m   Installed\u001b[22m\u001b[39m Distances ─────────── v0.10.10\n"
          ]
        },
        {
          "name": "stderr",
          "output_type": "stream",
          "text": [
            "\u001b[32m\u001b[1m   Installed\u001b[22m\u001b[39m Setfield ──────────── v1.1.1\n"
          ]
        },
        {
          "name": "stderr",
          "output_type": "stream",
          "text": [
            "\u001b[32m\u001b[1m   Installed\u001b[22m\u001b[39m TranscodingStreams ── v0.10.2\n",
            "\u001b[32m\u001b[1m   Installed\u001b[22m\u001b[39m Roots ─────────────── v2.0.22\n"
          ]
        },
        {
          "name": "stderr",
          "output_type": "stream",
          "text": [
            "\u001b[32m\u001b[1m   Installed\u001b[22m\u001b[39m OpenSSL_jll ───────── v3.0.12+0\n",
            "\u001b[32m\u001b[1m   Installed\u001b[22m\u001b[39m Combinatorics ─────── v1.0.2\n"
          ]
        },
        {
          "name": "stderr",
          "output_type": "stream",
          "text": [
            "\u001b[32m\u001b[1m   Installed\u001b[22m\u001b[39m CommonSolve ───────── v0.2.4\n"
          ]
        },
        {
          "name": "stderr",
          "output_type": "stream",
          "text": [
            "\u001b[32m\u001b[1m   Installed\u001b[22m\u001b[39m JMcDM ─────────────── v0.7.8\n"
          ]
        },
        {
          "name": "stderr",
          "output_type": "stream",
          "text": [
            "\u001b[32m\u001b[1m   Installed\u001b[22m\u001b[39m Qt6Base_jll ───────── v6.5.3+1\n"
          ]
        },
        {
          "name": "stderr",
          "output_type": "stream",
          "text": [
            "\u001b[32m\u001b[1m   Installed\u001b[22m\u001b[39m LaTeXStrings ──────── v1.3.1\n"
          ]
        },
        {
          "name": "stderr",
          "output_type": "stream",
          "text": [
            "\u001b[32m\u001b[1m   Installed\u001b[22m\u001b[39m FFMPEG_jll ────────── v4.4.4+1\n",
            "\u001b[32m\u001b[1m   Installed\u001b[22m\u001b[39m SearchSpaces ──────── v0.2.0\n",
            "\u001b[32m\u001b[1m   Installed\u001b[22m\u001b[39m FillArrays ────────── v1.7.0\n",
            "\u001b[32m\u001b[1m   Installed\u001b[22m\u001b[39m Metaheuristics ────── v3.3.3\n"
          ]
        },
        {
          "name": "stderr",
          "output_type": "stream",
          "text": [
            "\u001b[32m\u001b[1m   Installed\u001b[22m\u001b[39m Scratch ───────────── v1.2.1\n"
          ]
        },
        {
          "name": "stderr",
          "output_type": "stream",
          "text": [
            "\u001b[32m\u001b[1m   Installed\u001b[22m\u001b[39m Distributions ─────── v0.25.103\n"
          ]
        },
        {
          "name": "stderr",
          "output_type": "stream",
          "text": [
            "\u001b[32m\u001b[1mPrecompiling\u001b[22m\u001b[39m"
          ]
        },
        {
          "name": "stderr",
          "output_type": "stream",
          "text": [
            " project...\n"
          ]
        },
        {
          "name": "stderr",
          "output_type": "stream",
          "text": [
            "\u001b[32m  ✓ \u001b[39m\u001b[90mCommonSolve\u001b[39m\n",
            "\u001b[32m  ✓ \u001b[39m\u001b[90mLaTeXStrings\u001b[39m\n"
          ]
        },
        {
          "name": "stderr",
          "output_type": "stream",
          "text": [
            "\u001b[32m  ✓ \u001b[39m\u001b[90mConcurrentUtilities\u001b[39m\n"
          ]
        },
        {
          "name": "stderr",
          "output_type": "stream",
          "text": [
            "\u001b[32m  ✓ \u001b[39m\u001b[90mCombinatorics\u001b[39m\n"
          ]
        },
        {
          "name": "stderr",
          "output_type": "stream",
          "text": [
            "\u001b[32m  ✓ \u001b[39m\u001b[90mDistances\u001b[39m\n"
          ]
        },
        {
          "name": "stderr",
          "output_type": "stream",
          "text": [
            "\u001b[32m  ✓ \u001b[39m\u001b[90mTranscodingStreams\u001b[39m\n"
          ]
        },
        {
          "name": "stderr",
          "output_type": "stream",
          "text": [
            "\u001b[32m  ✓ \u001b[39m\u001b[90mScratch\u001b[39m\n"
          ]
        },
        {
          "name": "stderr",
          "output_type": "stream",
          "text": [
            "\u001b[32m  ✓ \u001b[39m\u001b[90mFillArrays\u001b[39m\n"
          ]
        },
        {
          "name": "stderr",
          "output_type": "stream",
          "text": [
            "\u001b[32m  ✓ \u001b[39m\u001b[90mPDMats\u001b[39m\n"
          ]
        },
        {
          "name": "stderr",
          "output_type": "stream",
          "text": [
            "\u001b[32m  ✓ \u001b[39m\u001b[90mJMcDM\u001b[39m\n"
          ]
        },
        {
          "name": "stderr",
          "output_type": "stream",
          "text": [
            "\u001b[32m  ✓ \u001b[39m\u001b[90mOpenSSL_jll\u001b[39m\n"
          ]
        },
        {
          "name": "stderr",
          "output_type": "stream",
          "text": [
            "\u001b[32m  ✓ \u001b[39m\u001b[90mSearchSpaces\u001b[39m\n"
          ]
        },
        {
          "name": "stderr",
          "output_type": "stream",
          "text": [
            "\u001b[32m  ✓ \u001b[39m\u001b[90mDistances → DistancesSparseArraysExt\u001b[39m\n"
          ]
        },
        {
          "name": "stderr",
          "output_type": "stream",
          "text": [
            "\u001b[32m  ✓ \u001b[39m\u001b[90mQuadGK\u001b[39m\n"
          ]
        },
        {
          "name": "stderr",
          "output_type": "stream",
          "text": [
            "\u001b[32m  ✓ \u001b[39m\u001b[90mSetfield\u001b[39m\n"
          ]
        },
        {
          "name": "stderr",
          "output_type": "stream",
          "text": [
            "\u001b[32m  ✓ \u001b[39m\u001b[90mDistances → DistancesChainRulesCoreExt\u001b[39m\n"
          ]
        },
        {
          "name": "stderr",
          "output_type": "stream",
          "text": [
            "\u001b[32m  ✓ \u001b[39m\u001b[90mRelocatableFolders\u001b[39m\n"
          ]
        },
        {
          "name": "stderr",
          "output_type": "stream",
          "text": [
            "\u001b[32m  ✓ \u001b[39m\u001b[90mFillArrays → FillArraysSparseArraysExt\u001b[39m\n"
          ]
        },
        {
          "name": "stderr",
          "output_type": "stream",
          "text": [
            "\u001b[32m  ✓ \u001b[39m\u001b[90mTranscodingStreams → TestExt\u001b[39m\n"
          ]
        },
        {
          "name": "stderr",
          "output_type": "stream",
          "text": [
            "\u001b[32m  ✓ \u001b[39m\u001b[90mFillArrays → FillArraysStatisticsExt\u001b[39m\n"
          ]
        },
        {
          "name": "stderr",
          "output_type": "stream",
          "text": [
            "\u001b[32m  ✓ \u001b[39m\u001b[90mCodecZlib\u001b[39m\n"
          ]
        },
        {
          "name": "stderr",
          "output_type": "stream",
          "text": [
            "\u001b[32m  ✓ \u001b[39m\u001b[90mFFMPEG_jll\u001b[39m\n"
          ]
        },
        {
          "name": "stderr",
          "output_type": "stream",
          "text": [
            "\u001b[32m  ✓ \u001b[39m\u001b[90mLatexify\u001b[39m\n",
            "\u001b[32m  ✓ \u001b[39m\u001b[90mQt6Base_jll\u001b[39m\n"
          ]
        },
        {
          "name": "stderr",
          "output_type": "stream",
          "text": [
            "\u001b[32m  ✓ \u001b[39m\u001b[90mStatsFuns → StatsFunsChainRulesCoreExt\u001b[39m\n"
          ]
        },
        {
          "name": "stderr",
          "output_type": "stream",
          "text": [
            "\u001b[32m  ✓ \u001b[39m\u001b[90mOpenSSL\u001b[39m\n"
          ]
        },
        {
          "name": "stderr",
          "output_type": "stream",
          "text": [
            "\u001b[32m  ✓ \u001b[39m\u001b[90mFFMPEG\u001b[39m\n"
          ]
        },
        {
          "name": "stderr",
          "output_type": "stream",
          "text": [
            "\u001b[32m  ✓ \u001b[39m\u001b[90mGR_jll\u001b[39m\n"
          ]
        },
        {
          "name": "stderr",
          "output_type": "stream",
          "text": [
            "\u001b[32m  ✓ \u001b[39m\u001b[90mUnitfulLatexify\u001b[39m\n"
          ]
        },
        {
          "name": "stderr",
          "output_type": "stream",
          "text": [
            "\u001b[32m  ✓ \u001b[39mRoots\n"
          ]
        },
        {
          "name": "stderr",
          "output_type": "stream",
          "text": [
            "\u001b[32m  ✓ \u001b[39m\u001b[90mHTTP\u001b[39m\n"
          ]
        },
        {
          "name": "stderr",
          "output_type": "stream",
          "text": [
            "\u001b[32m  ✓ \u001b[39mDistributions\n"
          ]
        },
        {
          "name": "stderr",
          "output_type": "stream",
          "text": [
            "\u001b[32m  ✓ \u001b[39m\u001b[90mDistributions → DistributionsTestExt\u001b[39m\n"
          ]
        },
        {
          "name": "stderr",
          "output_type": "stream",
          "text": [
            "\u001b[32m  ✓ \u001b[39m\u001b[90mDistributions → DistributionsChainRulesCoreExt\u001b[39m\n"
          ]
        },
        {
          "name": "stderr",
          "output_type": "stream",
          "text": [
            "\u001b[32m  ✓ \u001b[39m\u001b[90mGR\u001b[39m\n"
          ]
        },
        {
          "name": "stderr",
          "output_type": "stream",
          "text": [
            "\u001b[32m  ✓ \u001b[39mMetaheuristics\n"
          ]
        },
        {
          "name": "stderr",
          "output_type": "stream",
          "text": [
            "\u001b[32m  ✓ \u001b[39mPlots\n"
          ]
        },
        {
          "name": "stderr",
          "output_type": "stream",
          "text": [
            "\u001b[32m  ✓ \u001b[39m\u001b[90mPlots → UnitfulExt\u001b[39m\n",
            "  38 dependencies successfully precompiled in 90 seconds. 147 already precompiled.\n"
          ]
        }
      ],
      "source": [
        "import Pkg\n",
        "Pkg.activate(\".\")\n",
        "Pkg.instantiate()"
      ]
    },
    {
      "cell_type": "code",
      "execution_count": 1,
      "id": "feac28f5",
      "metadata": {},
      "outputs": [],
      "source": [
        "using Random # for random seeds\n",
        "using Distributions # statistical distribution interface\n",
        "using Roots # find zeros of functions\n",
        "using Metaheuristics # search algorithms\n",
        "using Plots # plotting"
      ]
    },
    {
      "cell_type": "markdown",
      "id": "675b9be5-2dbb-4360-be20-7a61db934a9d",
      "metadata": {},
      "source": [
        "## Overview\n",
        "\n",
        "In this lab, you will experiment with simulation-optimization with the\n",
        "shallow lake problem. The goal of this experimentation is to get an\n",
        "understanding of how to work with simulation-optimization methods and\n",
        "the impact of some choices involved in using these methods.\n",
        "\n",
        "Free free to delete some of the illustrative cells and code blocks in\n",
        "your notebook as you go through and solve the lab problems…this might\n",
        "help reduce some potential confusion while grading about what your\n",
        "answer is."
      ]
    },
    {
      "cell_type": "markdown",
      "id": "e24bbd67-63e0-4262-8d83-ae192828e478",
      "metadata": {},
      "source": [
        "## Introduction\n",
        "\n",
        "Due to ongoing economic activity, a town emits phosphorous into a\n",
        "shallow lake (with a concentration of $a_t$), which also receives\n",
        "non-point source runoff (concentration $y_t$) from the surrounding area.\n",
        "The concentration of the lake at time $t+1$ is given by\n",
        "$$X_{t+1} = X_t + a_t + y_t + \\frac{X_t^q}{1+X_t^q} - bX_t,$$\n",
        "\n",
        "where:\n",
        "\n",
        "| Parameter | Value                                                |\n",
        "|:---------:|:-----------------------------------------------------|\n",
        "|   $a_t$   | point-source phosphorous concentration from the town |\n",
        "|   $y_t$   | non-point-source phosphorous concentration           |\n",
        "|    $q$    | rate at which phosphorous is recycled from sediment  |\n",
        "|    $b$    | rate at which phosphorous leaves the lake            |\n",
        "\n",
        "and $X_0 = 0$, $y_t \\sim LogNormal(\\log(0.03), 0.25)$, $q=2.5$, and\n",
        "$b=0.4$.\n",
        "\n",
        "The goal of the optimization is to maximize the town’s average\n",
        "phosphorous concentration releases (as a proxy of economic activity):\n",
        "$\\max \\sum_{t=1}^T a_t / T$ over a 100-year period. We have decided\n",
        "(initially) that an acceptable solution is one which will result in the\n",
        "lake eutrophying no more than 10% of the time.\n",
        "\n",
        "The non-point source samples can be sampled using the following code\n",
        "block:"
      ]
    },
    {
      "cell_type": "code",
      "execution_count": 2,
      "id": "02dbd8b1",
      "metadata": {},
      "outputs": [
        {
          "data": {
            "text/plain": [
              "100×1000 Matrix{Float64}:\n",
              " 0.0294753  0.0459864  0.023513   …  0.0259183  0.0260934  0.0284652\n",
              " 0.034263   0.0222782  0.0459188     0.0288482  0.0480454  0.0531018\n",
              " 0.0245199  0.0296271  0.0445619     0.0246404  0.0250734  0.0304308\n",
              " 0.055448   0.0312     0.0228208     0.0298609  0.0428105  0.0256198\n",
              " 0.0401417  0.024978   0.0458244     0.0228935  0.0286062  0.0238694\n",
              " 0.0320754  0.021759   0.0471452  …  0.0472771  0.0187508  0.0306753\n",
              " 0.0464641  0.0416385  0.0246833     0.0382252  0.0288505  0.0226561\n",
              " 0.0244027  0.0432707  0.0341214     0.0238988  0.0427204  0.0316143\n",
              " 0.0231156  0.0279197  0.0217747     0.0231772  0.0335662  0.0324465\n",
              " 0.0276303  0.0305858  0.0440326     0.0289394  0.0312328  0.0173388\n",
              " ⋮                                ⋱                        \n",
              " 0.025665   0.0341366  0.0274747     0.0283546  0.0458031  0.0277959\n",
              " 0.0405629  0.0421121  0.0252557     0.0450377  0.0284411  0.0206434\n",
              " 0.0228445  0.0223746  0.0210942     0.0442834  0.0337672  0.0287835\n",
              " 0.0252604  0.0462868  0.0358435     0.0146043  0.023085   0.0240258\n",
              " 0.0237704  0.0378816  0.0291353  …  0.0442565  0.0326019  0.021258\n",
              " 0.0335883  0.0218181  0.0331417     0.0510932  0.0366858  0.0296993\n",
              " 0.0312679  0.0187135  0.0534007     0.0451143  0.026161   0.0183542\n",
              " 0.0382682  0.0310429  0.0296539     0.0471901  0.0283451  0.0219015\n",
              " 0.0256315  0.0232021  0.0239607     0.0350929  0.0293862  0.0348934"
            ]
          },
          "metadata": {},
          "output_type": "display_data"
        }
      ],
      "source": [
        "Random.seed!(1)\n",
        "\n",
        "T = 100 # length of simualtion\n",
        "n_samples = 1_000 # replace with number of samples if you experiment\n",
        "\n",
        "P_distribution = LogNormal(log(0.03), 0.25)\n",
        "y = rand(P_distribution, (T, n_samples)) # sample a T x n_samples matrix"
      ]
    },
    {
      "cell_type": "markdown",
      "id": "015c657d-3cae-40a2-aed4-604dd99bbc73",
      "metadata": {},
      "source": [
        "We write the lake model as a function:"
      ]
    },
    {
      "cell_type": "code",
      "execution_count": 3,
      "id": "20780fdf",
      "metadata": {},
      "outputs": [
        {
          "data": {
            "text/plain": [
              "lake (generic function with 1 method)"
            ]
          },
          "metadata": {},
          "output_type": "display_data"
        }
      ],
      "source": [
        "# lake function model\n",
        "# inputs:\n",
        "#   a: vector of point-source releases (to be optimized)\n",
        "#   y: randomly-sampled non-point sources\n",
        "#   q: lake phosphorous recycling rate\n",
        "#   b: phosphorous outflow rate\n",
        "# \n",
        "# returns:\n",
        "#   series of lake phosphorous concentrations\n",
        "function lake(a, y, q, b, T)\n",
        "    X = zeros(T+1, size(y, 2))\n",
        "    # calculate states\n",
        "    for t = 1:T\n",
        "        X[t+1, :] = X[t, :] .+ a[t] .+ y[t, :] .+ (X[t, :].^q./(1 .+ X[t, :].^q)) .- b.*X[t, :]\n",
        "    end\n",
        "    return X\n",
        "end"
      ]
    },
    {
      "cell_type": "markdown",
      "id": "f0969559-e292-4fb7-97fc-d6782d336856",
      "metadata": {},
      "source": [
        "However, this isn’t sufficient on its own! `Metaheuristics.jl` (and most\n",
        "simulation-optimization packages) require the use of a *wrapper*\n",
        "function, which accepts as inputs both parameters to be optimized (in\n",
        "this case, point-source releases `a`) and parameters which will be fixed\n",
        "(the others; see below for how to incorporate these into the syntax) and\n",
        "returns the required information for the optimization procedure.\n",
        "\n",
        "`Metaheuristics.jl` wants its optimizing wrapper function to return (in\n",
        "order):\n",
        "\n",
        "-   the objective(s) (in this case, the mean of `a`, $\\sum_t a_t / T$),\n",
        "-   a vector of the degrees to which the solution fails to achieve any\n",
        "    inequality constraints (positive values indicate a larger failure,\n",
        "    values below zero are considered acceptable)\n",
        "-   a vector of the degrees to which the solution fails to achieve any\n",
        "    equality constraints (only values of zero indicate success), which\n",
        "    in this case is not relevant, so we just return `[0.0]`."
      ]
    },
    {
      "cell_type": "code",
      "execution_count": 5,
      "id": "123470aa",
      "metadata": {},
      "outputs": [
        {
          "data": {
            "text/plain": [
              "lake_opt (generic function with 1 method)"
            ]
          },
          "metadata": {},
          "output_type": "display_data"
        }
      ],
      "source": [
        "# function producing optimization outputs\n",
        "# inputs:\n",
        "#   a: vector of point-source releases (to be optimized)\n",
        "#   y: randomly-sampled non-point sources\n",
        "#   q: lake phosphorous recycling rate\n",
        "#   b: phosphorous outflow rate\n",
        "# \n",
        "# returns:\n",
        "#   - objective: mean value of point-source releases\n",
        "#   - inequality constraint failure vector\n",
        "#   - equality constraint failure vector (in this case, always [0.0])\n",
        "function lake_opt(a, y, q, b, T, Xcrit)\n",
        "    X = lake(a, y, q, b, T)\n",
        "    # calculate exceedance of critical value\n",
        "    Pexceed = sum(X[T+1, :] .> Xcrit) / size(X, 2)\n",
        "    failconst = [Pexceed - 0.1] # replace 0.1 if you experiment with the failure probability\n",
        "    return mean(a), failconst, [0.0]\n",
        "end"
      ]
    },
    {
      "cell_type": "markdown",
      "id": "f6e90369-d38f-432d-807a-49e680fe5e57",
      "metadata": {},
      "source": [
        "To optimize using DE (differential evolution), use the following syntax:\n",
        "\n",
        "``` julia\n",
        "results = optimize(f, bounds, DE(options=Options(f_calls_limit=max_evals)))\n",
        "```\n",
        "\n",
        "where `bounds` is a `Matrix` of lower bounds (first row) and upper\n",
        "bounds (last row), and `max_evals` is an integer for the maximum number\n",
        "of evaluations.\n",
        "\n",
        "-   For example, to set bounds for all decision variables between 0 and\n",
        "    0.5, you can use\n",
        "\n",
        "``` julia\n",
        "bounds = [zeros(T) 0.5ones(T)]'\n",
        "```\n",
        "\n",
        "-   Increasing `max_evals` can help you find a better solution, but at a\n",
        "    larger computational expense.\n",
        "-   You can use an anonymous function to fix values for non-optimized\n",
        "    parameters, *e.g.*\n",
        "\n",
        "``` julia\n",
        "y = ...\n",
        "q = ...\n",
        "b = ...\n",
        "T = ...\n",
        "Xcrit = ...\n",
        "results = optimize(a -> lake_opt(a, y, q, b, t, Xcrit), bounds, DE(options=Options(f_calls_limit=max_evals)))\n",
        "```\n",
        "\n",
        "Then to get the approximated minimum value:\n",
        "\n",
        "``` julia\n",
        "fx = minimum(result)\n",
        "```\n",
        "\n",
        "and the approximated minimizing value:\n",
        "\n",
        "``` julia\n",
        "x = minimizer(result)\n",
        "```\n",
        "\n",
        "The last piece is to get the critical value (to identify failures),\n",
        "which we can do using `Roots.jl`, which finds zeros of functions:"
      ]
    },
    {
      "cell_type": "code",
      "execution_count": 6,
      "id": "8241d3ef",
      "metadata": {},
      "outputs": [
        {
          "data": {
            "text/plain": [
              "0.6678778690448219"
            ]
          },
          "metadata": {},
          "output_type": "display_data"
        }
      ],
      "source": [
        "# define a function whose zeros are the critical values\n",
        "P_flux(x) = (x^q/(1+x^q)) - b*x\n",
        "# use Roots.find_zero() to find the non-eutrophication and non-zero critical value; we know from visual inspection in class that this is bounded between 0.1 and 1.5.\n",
        "Xcrit = find_zero(P_flux, (0.1, 1.5))"
      ]
    },
    {
      "cell_type": "markdown",
      "id": "2a2a9a6c-0a6f-484a-9996-ad9987bc3193",
      "metadata": {},
      "source": [
        "## Problems\n",
        "\n",
        "### Problem 1 (2 points)\n",
        "\n",
        "Using the default setup above, find the approximate optimum value. What\n",
        "is the value of the objective function, and how many failures (you can\n",
        "evaluate the `lake` function using your solution to find how many\n",
        "end-values are above the critical value).\n"
      ]
    },
    {
      "cell_type": "code",
      "execution_count": 7,
      "metadata": {},
      "outputs": [
        {
          "data": {
            "text/html": [
              "<pre>\n",
              "Optimization Result\n",
              "===================\n",
              "  Iteration:       10\n",
              "  Minimum:         0.175839\n",
              "  Minimizer:       [0.263586, 0.167341, 0.494098, …, 0.0693267]\n",
              "  Function calls:  10000\n",
              "  Feasibles:       0 / 1000 in final population\n",
              "  Total time:      32.0300 s\n",
              "  Stop reason:     Maximum objective function calls exceeded.\n",
              "</pre>\n"
            ],
            "text/plain": [
              "\u001b[34m\u001b[1mOptimization Result\u001b[22m\u001b[39m\n",
              "\u001b[39m===================\u001b[39m\n",
              "  Iteration:       10\n",
              "  Minimum:         0.175839\n",
              "  Minimizer:       [0.263586, 0.167341, 0.494098, …, 0.0693267]\n",
              "  Function calls:  10000\n",
              "  Feasibles:       0 / 1000 in final population\n",
              "  Total time:      32.0300 s\n",
              "  Stop reason:     Maximum objective function calls exceeded.\n"
            ]
          },
          "metadata": {},
          "output_type": "display_data"
        }
      ],
      "source": [
        "#Initialize parameters \n",
        "q = 2.5\n",
        "b = 0.4\n",
        "\n",
        "#define non-point source concentration samples\n",
        "Random.seed!(1)\n",
        "T = 100\n",
        "n_samples = 1000\n",
        "P_distribution = LogNormal(log(0.03), 0.25)\n",
        "y = rand(P_distribution, (T, n_samples))\n",
        "\n",
        "#Determine critical phosphorous concentration\t\n",
        "P_flux(x) = (x ^ q/(1 + x^q)) - b * x\n",
        "Xcrit = find_zero(P_flux, (0.1, 1.5))\n",
        "\n",
        "#define the function for the lake model\n",
        "function lake(a, y, q, b, T)\n",
        "    X = zeros(T+1, size(y, 2))\n",
        "    for t = 1:T\n",
        "        X[t+1, :] = X[t, :] .+ a[t] .+ y[t, :] .+ (X[t, :].^q./(1 .+ X[t, :].^q)) .- b.*X[t, :]\n",
        "    end\n",
        "    return X\n",
        "end\n",
        "\n",
        "#Define the optimization function that will yield the optimization outputs\n",
        "\t#The function must return the mean value of the point releases; the inequality constraint failure  vector; and the equality constraint failure vector\n",
        "function lake_opt(a, y, q, b, T, Xcrit)\n",
        "    X = lake(a, y, q, b, T)\n",
        "\t#calculate exceedance of the critical value \n",
        "    Pexceed = sum(X[T+1, :] .> Xcrit) / size(X, 2)\n",
        "    failconst = [Pexceed - 0.1]\n",
        "    return mean(a), failconst, [0.0]\n",
        "end\n",
        "\n",
        "\n",
        "#Define bounds for the decision variables and optimization parameters\n",
        "bounds = [zeros(T) 0.5ones(T)]' #bounds and Differential Evolution Parameters\n",
        "max_evals = 10000 \n",
        "\n",
        "#Optimize point-source releases using the differential evolution algorithm\n",
        "release_results = optimize(a -> lake_opt(a, y, q, b, T, Xcrit), bounds, DE(options=Options(f_calls_limit=max_evals)))\n"
      ]
    },
    {
      "cell_type": "code",
      "execution_count": 11,
      "metadata": {},
      "outputs": [
        {
          "name": "stdout",
          "output_type": "stream",
          "text": [
            "The Average phosphorous concentration is : 0.1758389989876344\n",
            "Number of Failures, where eutrophication exceeded the critical value: 1000\n"
          ]
        }
      ],
      "source": [
        "objective_value = minimum(release_results)\n",
        "optimum_a = minimizer(release_results)\n",
        "X = lake(optimum_a, y, q, b, T)\n",
        "num_failures = sum(X[T+1, :] .> Xcrit)\n",
        "\n",
        "println(\"The Average phosphorous concentration is : \", objective_value)\n",
        "println(\"Number of Failures, where eutrophication exceeded the critical value: \", num_failures)"
      ]
    },
    {
      "cell_type": "markdown",
      "metadata": {},
      "source": [
        "### Problem 2 (5 points)"
      ]
    },
    {
      "cell_type": "markdown",
      "id": "0798aa5d-d992-4181-9d1d-8cc614e0b69a",
      "metadata": {},
      "source": [
        "Feel free to experiment with some of the degrees of freedom in finding\n",
        "the optimum value. For example:\n",
        "\n",
        "-   What failure probability are you using to characterize acceptable\n",
        "    solutions?\n",
        "-   How many Monte Carlo samples are you using?\n",
        "-   What bounds are you searching over for the releases?\n",
        "-   How many function evaluations are you using for the search?\n",
        "-   What is the impact of different [`Metaheuristics.jl`\n",
        "    algorithms](https://docs.juliahub.com/Metaheuristics/aJ70z/3.2.12/algorithms/)?\n",
        "\n",
        "Note that you might want to modify some of these together: for example,\n",
        "lower acceptable failure probabilities often require more function\n",
        "evaluations to find acceptable values, and more Monte Carlo samples\n",
        "increase computational expense, so fewer function evaluations may be\n",
        "completed in the same time.\n",
        "\n",
        "Provide a description of what you’ve modified and why. What was the new\n",
        "solution that you found? Does it satisfy the constraints?"
      ]
    },
    {
      "cell_type": "markdown",
      "metadata": {},
      "source": [
        "In the code below, I will be modifying with the failure probabilty from the initial 10% threshold, to see how  leniency in the environmental constraint impacts the optimization."
      ]
    },
    {
      "cell_type": "code",
      "execution_count": 7,
      "metadata": {},
      "outputs": [
        {
          "name": "stdout",
          "output_type": "stream",
          "text": [
            "Optimized average phosphorous release: 0.1758389989876344\n",
            "The release strategy for phosphorous: "
          ]
        },
        {
          "name": "stdout",
          "output_type": "stream",
          "text": [
            "[0.2635864543525618, 0.16734125679399328, 0.4940983705867296, 0.14812818499698222, 0.2209968887648866, 0.3104715898559678, 0.06572965809421151, 0.06878992116827218, 0.09930290634088336, 0.11226663959243076, 0.22063020382674264, 0.033460282677343474, 0.26129421434788414, 0.2226241797862963, 0.2620020065171295, 0.000285305682809156, 0.1453954579252515, 0.24055271244205928, 0.02662777561557461, 0.07764829727975447, 0.13641562347641384, 0.16849862406954952, 0.3127248794166877, 0.029226269467055754, 0.06804802682925701, 0.21059818798867352, 0.09685387669989515, 0.36838941709217143, 0.2146263905833259, 0.08635000936869487, 0.03158552281778913, 0.021828583115582195, 0.2496524928427041, 0.0015515974493352281, 0.3245648112352897, 0.008180636281991652, 0.36893728921732144, 0.004771076554292198, 0.44404146399649147, 0.1387737171261574, 0.14347446079925325, 0.012520642519448913, 0.3428642733456046, 0.40996291285679326, 0.017102412675410586, 0.14873870186392832, 0.3330702859176959, 0.4519667657593952, 0.059656106932538006, 0.09451226530691022, 0.24518050760788823, 0.03110252450545138, 0.24260133384820934, 0.10969150899062552, 0.03671433636856246, 0.18565425498770033, 0.37345366311105566, 0.05810135009653936, 0.36916057129359514, 0.24414931152308608, 0.3890446081841613, 0.11055224471889123, 0.41911953170963356, 0.2922228888012237, 0.20093112812032643, 0.14930566358910569, 0.32665574763177446, 0.20194942607815375, 0.007553419538687096, 0.06509118962469235, 0.05559698002923241, 0.11652581185400926, 0.029273544248708587, 0.11370207533028491, 0.18806276760784177, 0.1154634195620867, 0.010764888669831212, 0.24100237656828916, 0.08041331092047635, 0.15461699772558113, 0.3521305105702447, 0.18962125754705902, 0.021175892436534033, 0.004228139287672031, 0.02416065369015144, 0.03777616107966805, 0.18428900750342328, 0.13139617079970786, 0.17752026672181478, 0.4678633609587657, 0.14914268045258033, 0.365382837649471, 0.20483818706774487, 0.15106150802761886, 0.07560983445942435, 0.4409714883200095, 0.1715549736311463, 0.15767805600695833, 0.3037952144689344, 0.06932668498538028]\n"
          ]
        }
      ],
      "source": [
        "#Initialize parameters\n",
        "q = 2.5\n",
        "b = 0.4\n",
        "T = 100\n",
        "Xcrit = find_zero(P_flux, (0.1, 1.5))  \n",
        "\n",
        "#define non-point source concentration samples\n",
        "Random.seed!(1)\n",
        "n_samples = 1000\n",
        "P_distribution = LogNormal(log(0.03), 0.25)\n",
        "y = rand(P_distribution, (T, n_samples))\n",
        "\n",
        "#Define the lake model\n",
        "function lake(a, y, q, b, T)\n",
        "\tX = zeros(T+1, size(y, 2))\n",
        "\tfor t = 1:T\n",
        "\t\tX[t+1, :] = X[t, :] .+ a[t] .+ y[t, :] .+ (X[t, :].^q./(1 .+ X[t, :].^q)) .- b.*X[t, :]\n",
        "\tend\n",
        "\treturn X\n",
        "end\n",
        "\n",
        "#Compute the adjusted failure probability\n",
        "failure_probability = 0.05  #5%\n",
        "\n",
        "#Determine critical phosphorous concentration\t\n",
        "P_flux(x) = (x ^ q/(1 + x^q)) - b * x\n",
        "Xcrit = find_zero(P_flux, (0.1, 1.5))\n",
        "\n",
        "#Define the optimization function\n",
        "function lake_opt(a, y, q, b, T, Xcrit)\n",
        "\tX = lake(a, y, q, b, T)\n",
        "\tPexceed = sum(X[T+1, :] .> Xcrit) / size(X, 2)\n",
        "\tfailconst = [Pexceed - failure_probability]\n",
        "\treturn mean(a), failconst, [0.0]\n",
        "end\n",
        "\n",
        "#Define bounds for the decision variables and optimization parameters\n",
        "bounds = [zeros(T) 0.5ones(T)]'\n",
        "max_evals = 10000\n",
        "\n",
        "#Optimize point-source releases using the differential evolution algorithm\n",
        "release_results = optimize(a -> lake_opt(a, y, q, b, T, Xcrit), bounds, DE(options=Options(f_calls_limit=max_evals)))\n",
        "\t\n",
        "#Output results\n",
        "println(\"Optimized average phosphorous release: \", minimum(release_results))\n",
        "println(\"The release strategy for phosphorous: \", minimizer(release_results))\n"
      ]
    },
    {
      "cell_type": "markdown",
      "metadata": {},
      "source": [
        "After noticing that the optimization remained unchanged, I decided to further modify the failure probability threshold to 20% to see whether changes would be \n",
        "\n",
        "observed with increased strictness.  "
      ]
    },
    {
      "cell_type": "code",
      "execution_count": 10,
      "metadata": {},
      "outputs": [
        {
          "name": "stdout",
          "output_type": "stream",
          "text": [
            "Optimized average phosphorous release: 0.1758389989876344\n",
            "The release strategy for phosphorous: [0.2635864543525618, 0.16734125679399328, 0.4940983705867296, 0.14812818499698222, 0.2209968887648866, 0.3104715898559678, 0.06572965809421151, 0.06878992116827218, 0.09930290634088336, 0.11226663959243076, 0.22063020382674264, 0.033460282677343474, 0.26129421434788414, 0.2226241797862963, 0.2620020065171295, 0.000285305682809156, 0.1453954579252515, 0.24055271244205928, 0.02662777561557461, 0.07764829727975447, 0.13641562347641384, 0.16849862406954952, 0.3127248794166877, 0.029226269467055754, 0.06804802682925701, 0.21059818798867352, 0.09685387669989515, 0.36838941709217143, 0.2146263905833259, 0.08635000936869487, 0.03158552281778913, 0.021828583115582195, 0.2496524928427041, 0.0015515974493352281, 0.3245648112352897, 0.008180636281991652, 0.36893728921732144, 0.004771076554292198, 0.44404146399649147, 0.1387737171261574, 0.14347446079925325, 0.012520642519448913, 0.3428642733456046, 0.40996291285679326, 0.017102412675410586, 0.14873870186392832, 0.3330702859176959, 0.4519667657593952, 0.059656106932538006, 0.09451226530691022, 0.24518050760788823, 0.03110252450545138, 0.24260133384820934, 0.10969150899062552, 0.03671433636856246, 0.18565425498770033, 0.37345366311105566, 0.05810135009653936, 0.36916057129359514, 0.24414931152308608, 0.3890446081841613, 0.11055224471889123, 0.41911953170963356, 0.2922228888012237, 0.20093112812032643, 0.14930566358910569, 0.32665574763177446, 0.20194942607815375, 0.007553419538687096, 0.06509118962469235, 0.05559698002923241, 0.11652581185400926, 0.029273544248708587, 0.11370207533028491, 0.18806276760784177, 0.1154634195620867, 0.010764888669831212, 0.24100237656828916, 0.08041331092047635, 0.15461699772558113, 0.3521305105702447, 0.18962125754705902, 0.021175892436534033, 0.004228139287672031, 0.02416065369015144, 0.03777616107966805, 0.18428900750342328, 0.13139617079970786, 0.17752026672181478, 0.4678633609587657, 0.14914268045258033, 0.365382837649471, 0.20483818706774487, 0.15106150802761886, 0.07560983445942435, 0.4409714883200095, 0.1715549736311463, 0.15767805600695833, 0.3037952144689344, 0.06932668498538028]\n"
          ]
        }
      ],
      "source": [
        "#Initialize parameters\n",
        "q = 2.5\n",
        "b = 0.4\n",
        "T = 100\n",
        "Xcrit = find_zero(P_flux, (0.1, 1.5))  \n",
        "\n",
        "#define non-point source concentration samples\n",
        "Random.seed!(1)\n",
        "n_samples = 1000\n",
        "P_distribution = LogNormal(log(0.03), 0.25)\n",
        "y = rand(P_distribution, (T, n_samples))\n",
        "\n",
        "#Define the lake model\n",
        "function lake(a, y, q, b, T)\n",
        "\tX = zeros(T+1, size(y, 2))\n",
        "\tfor t = 1:T\n",
        "\t\tX[t+1, :] = X[t, :] .+ a[t] .+ y[t, :] .+ (X[t, :].^q./(1 .+ X[t, :].^q)) .- b.*X[t, :]\n",
        "\tend\n",
        "\treturn X\n",
        "end\n",
        "\n",
        "#Compute the adjusted failure probability\n",
        "failure_probability = 0.20  #20%\n",
        "\n",
        "#Determine critical phosphorous concentration\t\n",
        "P_flux(x) = (x ^ q/(1 + x^q)) - b * x\n",
        "Xcrit = find_zero(P_flux, (0.1, 1.5))\n",
        "\n",
        "#Define the optimization function\n",
        "function lake_opt(a, y, q, b, T, Xcrit)\n",
        "\tX = lake(a, y, q, b, T)\n",
        "\tPexceed = sum(X[T+1, :] .> Xcrit) / size(X, 2)\n",
        "\tfailconst = [Pexceed - failure_probability]\n",
        "\treturn mean(a), failconst, [0.0]\n",
        "end\n",
        "\n",
        "#Define bounds for the decision variables and optimization parameters\n",
        "bounds = [zeros(T) 0.5ones(T)]'\n",
        "max_evals = 10000\n",
        "\n",
        "#Optimize point-source releases using the differential evolution algorithm\n",
        "release_results = optimize(a -> lake_opt(a, y, q, b, T, Xcrit), bounds, DE(options=Options(f_calls_limit=max_evals)))\n",
        "\t\n",
        "#Output results\n",
        "println(\"Optimized average phosphorous release: \", minimum(release_results))\n",
        "println(\"The release strategy for phosphorous: \", minimizer(release_results))"
      ]
    },
    {
      "cell_type": "markdown",
      "metadata": {},
      "source": [
        "In the modification, the failure probability was modified from 10% to 5% and subsequently to 20%. What was noted was that in both instances of leniency and strictness,  \n",
        "\n",
        "the average phosphorous release remained unchanged. This appears to be an example of stress-testing for robustness. Since robustness reflects how well a decision performs \n",
        "\n",
        "under plausible alternative specifications, in this instance, the release strategy for phosphorous (and thus the optimized average phosphorous release) is robust enough to\n",
        "\n",
        "satisfy the modified thresholds, implying that the solution is sufficiently conservative. Ergo, the critical level of lake eutrophication is not exceeded even that even with \n",
        "\n",
        "stricter or lenient thresholds. \n",
        "\n",
        "The results also reflect a lack of sensitivity to the parameter of failure probability threshold, atleast within the experimental range of 5% to 20%. It is also possible that \n",
        "\n",
        "other constraints are more dominant in comparison to failure probability threshold. "
      ]
    },
    {
      "cell_type": "markdown",
      "id": "5e8171ff-04c2-45d3-a1ec-a6291eecd781",
      "metadata": {},
      "source": [
        "### Problem 3 (3 points)\n",
        "\n",
        "What did you learn about the use of these methods? Compare with your\n",
        "experience with linear programming from earlier in the semester.\n",
        "\n"
      ]
    },
    {
      "cell_type": "markdown",
      "metadata": {},
      "source": [
        "As was mentioned in previous lectures, LPs are best suited for expressing linearity; whereas, more complex non-linear problems, such as quadratic equations, \n",
        "\n",
        "can be expressed using metaheuristics. The lab exercise was an example of such an instance because we were working with non-linearity due to the phosphorous concentrations\n",
        "\n",
        "changing over time, as seen from $(X_t^q / (1 + X_t^q) - bX_t)$. Moreover, stochaistic elements were included in the problem formulation, such as non-point source runoff. \n",
        "\n",
        "This introduced uncertainty as well as variablity, highlighting the 'limitation' of LPs in this regard when dealing with randomness. Thus, in such a case, a deterministic \n",
        "\n",
        "appraoch would fall short; however, a near-optimal solution could be determined. \n",
        "\n",
        "I also learnt that LPs are not suitable for accounting for changes that occur over time or path-dependence in systems. Solving for the dynamic nature that characterises \n",
        "\n",
        "certain 'real-world' systems introduces a complexity that must be solved for using approaches outside of the LP paradigm. \n",
        "\n",
        "In summary, the formulation of the problem in including non-linear, stochastic, and dynamic characterization allowed for us to practically see where LPs or deterministic \n",
        "\n",
        "approaches would be limited, presenting a scenario where instead an aggregate of methods would be required to solve for problems of increasing complexity.  "
      ]
    },
    {
      "cell_type": "markdown",
      "metadata": {},
      "source": [
        "## References\n",
        "\n",
        "Put any consulted sources here, including classmates you worked with/who\n",
        "helped you."
      ]
    },
    {
      "cell_type": "markdown",
      "metadata": {},
      "source": [
        "Geeks for Geeks. 2020. Function Wrappers in Python. (online) https://www.geeksforgeeks.org/function-wrappers-in-python/ (Accessed November 16, 2023)\n",
        "\n",
        "Julia Hub. n.d. Metaheuristics (online) https://docs.juliahub.com/Metaheuristics/aJ70z/3.0.0/algorithms/ (Accessed November 16, 2023)\n",
        "\n",
        "Julia Programming Language. 2022. Metaheuristics.jl: Towards Any Optimization | Jesús Mejía | JuliaCon 2022 (online) https://www.youtube.com/watch?v=vKAcYYrqWWU (Accessed November 16, 2023)\n"
      ]
    }
  ],
  "metadata": {
    "kernelspec": {
      "display_name": "Julia 1.9.2",
      "language": "julia",
      "name": "julia-1.9"
    },
    "language_info": {
      "file_extension": ".jl",
      "mimetype": "application/julia",
      "name": "julia",
      "version": "1.9.2"
    }
  },
  "nbformat": 4,
  "nbformat_minor": 5
}
